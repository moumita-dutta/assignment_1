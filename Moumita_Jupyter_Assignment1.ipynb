{
    "cells": [
        {
            "cell_type": "markdown",
            "metadata": {
                "collapsed": true
            },
            "source": "# My Jupyter Notebook on IBM Watson Studio"
        },
        {
            "cell_type": "markdown",
            "metadata": {},
            "source": "__Moumita Dutta__  \n  IT Professional"
        },
        {
            "cell_type": "markdown",
            "metadata": {},
            "source": "*I am interested to learn data science because I want to use my skill and knowledge to uncover solution hidden in the data to take business decision and reach the utmost goals*"
        },
        {
            "cell_type": "markdown",
            "metadata": {},
            "source": "### Canculates the average number"
        },
        {
            "cell_type": "code",
            "execution_count": 1,
            "metadata": {},
            "outputs": [
                {
                    "name": "stdout",
                    "output_type": "stream",
                    "text": "Enter a number: 1\nEnter a number: 2\nEnter a number: 3\nEnter a number: done\nAverage: 2.0\n"
                }
            ],
            "source": "total = 0\ncount = 0\nwhile (True):\n    inp = input('Enter a number: ')\n    if inp == 'done': break\n    value = float(inp)\n    total = total + value\n    count = count + 1\n\naverage = total / count\nprint('Average:', average)"
        },
        {
            "cell_type": "markdown",
            "metadata": {},
            "source": "Links:\n\n1. <http://www.google.com>\n2. <http://www.coursera.com>\n\n  * Other Referces... .\n1. Personal Study\n\n**********************************************************\n\nThis is end......"
        },
        {
            "cell_type": "code",
            "execution_count": null,
            "metadata": {},
            "outputs": [],
            "source": ""
        }
    ],
    "metadata": {
        "kernelspec": {
            "display_name": "Python 3.6",
            "language": "python",
            "name": "python3"
        },
        "language_info": {
            "codemirror_mode": {
                "name": "ipython",
                "version": 3
            },
            "file_extension": ".py",
            "mimetype": "text/x-python",
            "name": "python",
            "nbconvert_exporter": "python",
            "pygments_lexer": "ipython3",
            "version": "3.6.9"
        }
    },
    "nbformat": 4,
    "nbformat_minor": 1
}